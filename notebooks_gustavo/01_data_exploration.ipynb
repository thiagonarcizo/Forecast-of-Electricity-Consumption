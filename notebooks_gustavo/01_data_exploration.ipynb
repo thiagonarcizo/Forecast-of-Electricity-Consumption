{
 "cells": [
  {
   "cell_type": "code",
   "execution_count": 46,
   "id": "a8cf1324",
   "metadata": {},
   "outputs": [],
   "source": [
    "!pip3 install --quiet matplotlib numpy pandas scikit-learn seaborn"
   ]
  },
  {
   "cell_type": "markdown",
   "id": "7ce4d81d",
   "metadata": {},
   "source": [
    "# Data Cleaning"
   ]
  },
  {
   "cell_type": "code",
   "execution_count": 47,
   "id": "0f42fea8",
   "metadata": {},
   "outputs": [],
   "source": [
    "# Basic imports\n",
    "import numpy as np\n",
    "import pandas as pd\n",
    "import matplotlib.pyplot as plt\n",
    "import seaborn as sns\n",
    "import os"
   ]
  },
  {
   "cell_type": "code",
   "execution_count": 48,
   "id": "782f52c9",
   "metadata": {},
   "outputs": [],
   "source": [
    "# Changing the path to the root of the repository\n",
    "\n",
    "if not os.path.exists('data'):\n",
    "    current_path = os.getcwd()\n",
    "    root_path = os.path.abspath(os.path.join(current_path, '..'))\n",
    "    os.chdir(root_path)\n",
    "    print(f'Changed working directory to: {os.getcwd()}')"
   ]
  },
  {
   "cell_type": "code",
   "execution_count": 49,
   "id": "523237d4",
   "metadata": {},
   "outputs": [],
   "source": [
    "# Load raw data\n",
    "acorn_details = pd.read_csv('data/00_raw/acorn_details.csv', encoding='ISO-8859-1')\n",
    "temperatures = pd.read_csv('data/00_raw/temperatures.csv', sep=';', decimal=',', encoding='utf-8')\n",
    "uk_bank_holidays = pd.read_csv('data/00_raw/uk_bank_holidays.csv')\n",
    "weather_daily = pd.read_csv('data/00_raw/weather_daily_darksky.csv')\n",
    "weather_hourly = pd.read_csv('data/00_raw/weather_hourly_darksky.csv')\n",
    "\n",
    "# Load processed data from parquet\n",
    "group_4_daily_predict = pd.read_parquet('data/02_processed/parquet/group_4_daily_predict.parquet')\n",
    "group_4_half_hourly_predict = pd.read_parquet('data/02_processed/parquet/group_4_half_hourly_predict.parquet')\n",
    "group_4_daily = pd.read_parquet('data/02_processed/parquet/group_4_daily.parquet')\n",
    "group_4_half_hourly = pd.read_parquet('data/02_processed/parquet/group_4_half_hourly.parquet')"
   ]
  },
  {
   "cell_type": "code",
   "execution_count": 50,
   "id": "4ee4fb24",
   "metadata": {},
   "outputs": [],
   "source": [
    "# Fixing Datetime formats\n",
    "temperatures['DateTime'] = pd.to_datetime(temperatures['DateTime'], format='mixed')\n",
    "uk_bank_holidays['Bank holidays'] = pd.to_datetime(uk_bank_holidays['Bank holidays'], format='mixed')\n",
    "\n",
    "# Convert all datetime-like columns in weather_daily to datetime format\n",
    "datetime_columns = ['temperatureMaxTime', 'temperatureMinTime', 'apparentTemperatureMinTime', \n",
    "                   'apparentTemperatureHighTime', 'time', 'sunsetTime', 'sunriseTime', \n",
    "                   'temperatureHighTime', 'uvIndexTime', 'temperatureLowTime', \n",
    "                   'apparentTemperatureMaxTime', 'apparentTemperatureLowTime']\n",
    "\n",
    "for col in datetime_columns:\n",
    "    weather_daily[col] = pd.to_datetime(weather_daily[col])"
   ]
  }
 ],
 "metadata": {
  "kernelspec": {
   "display_name": ".venv",
   "language": "python",
   "name": "python3"
  },
  "language_info": {
   "codemirror_mode": {
    "name": "ipython",
    "version": 3
   },
   "file_extension": ".py",
   "mimetype": "text/x-python",
   "name": "python",
   "nbconvert_exporter": "python",
   "pygments_lexer": "ipython3",
   "version": "3.13.0"
  }
 },
 "nbformat": 4,
 "nbformat_minor": 5
}
