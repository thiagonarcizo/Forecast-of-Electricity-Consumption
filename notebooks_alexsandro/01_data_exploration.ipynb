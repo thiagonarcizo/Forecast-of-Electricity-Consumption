{
 "cells": [
  {
   "cell_type": "code",
   "execution_count": 149,
   "id": "b0e88155",
   "metadata": {},
   "outputs": [
    {
     "name": "stderr",
     "output_type": "stream",
     "text": [
      "\n",
      "[notice] A new release of pip is available: 25.0.1 -> 25.1.1\n",
      "[notice] To update, run: python.exe -m pip install --upgrade pip\n"
     ]
    }
   ],
   "source": [
    "! pip install --quiet matplotlib numpy pandas scikit-learn seaborn pyarrow"
   ]
  },
  {
   "cell_type": "code",
   "execution_count": 150,
   "id": "40200ff3",
   "metadata": {},
   "outputs": [],
   "source": [
    "import numpy as np\n",
    "import pandas as pd\n",
    "import matplotlib.pyplot as plt\n",
    "import seaborn as sns"
   ]
  },
  {
   "cell_type": "markdown",
   "id": "92034541",
   "metadata": {},
   "source": [
    "## Daily weather file\n",
    "### Preprocessing"
   ]
  },
  {
   "cell_type": "code",
   "execution_count": 151,
   "id": "449b3e2e",
   "metadata": {},
   "outputs": [],
   "source": [
    "df_weather_daily = pd.read_csv(r'..\\data\\00_raw\\weather_daily_darksky.csv')"
   ]
  },
  {
   "cell_type": "code",
   "execution_count": 152,
   "id": "7f520672",
   "metadata": {},
   "outputs": [
    {
     "data": {
      "text/html": [
       "<div>\n",
       "<style scoped>\n",
       "    .dataframe tbody tr th:only-of-type {\n",
       "        vertical-align: middle;\n",
       "    }\n",
       "\n",
       "    .dataframe tbody tr th {\n",
       "        vertical-align: top;\n",
       "    }\n",
       "\n",
       "    .dataframe thead th {\n",
       "        text-align: right;\n",
       "    }\n",
       "</style>\n",
       "<table border=\"1\" class=\"dataframe\">\n",
       "  <thead>\n",
       "    <tr style=\"text-align: right;\">\n",
       "      <th></th>\n",
       "      <th>temperatureMax</th>\n",
       "      <th>temperatureMaxTime</th>\n",
       "      <th>windBearing</th>\n",
       "      <th>icon</th>\n",
       "      <th>dewPoint</th>\n",
       "      <th>temperatureMinTime</th>\n",
       "      <th>cloudCover</th>\n",
       "      <th>windSpeed</th>\n",
       "      <th>pressure</th>\n",
       "      <th>apparentTemperatureMinTime</th>\n",
       "      <th>...</th>\n",
       "      <th>temperatureHigh</th>\n",
       "      <th>sunriseTime</th>\n",
       "      <th>temperatureHighTime</th>\n",
       "      <th>uvIndexTime</th>\n",
       "      <th>summary</th>\n",
       "      <th>temperatureLowTime</th>\n",
       "      <th>apparentTemperatureMin</th>\n",
       "      <th>apparentTemperatureMaxTime</th>\n",
       "      <th>apparentTemperatureLowTime</th>\n",
       "      <th>moonPhase</th>\n",
       "    </tr>\n",
       "  </thead>\n",
       "  <tbody>\n",
       "    <tr>\n",
       "      <th>0</th>\n",
       "      <td>11.96</td>\n",
       "      <td>2011-11-11 23:00:00</td>\n",
       "      <td>123</td>\n",
       "      <td>fog</td>\n",
       "      <td>9.40</td>\n",
       "      <td>2011-11-11 07:00:00</td>\n",
       "      <td>0.79</td>\n",
       "      <td>3.88</td>\n",
       "      <td>1016.08</td>\n",
       "      <td>2011-11-11 07:00:00</td>\n",
       "      <td>...</td>\n",
       "      <td>10.87</td>\n",
       "      <td>2011-11-11 07:12:14</td>\n",
       "      <td>2011-11-11 19:00:00</td>\n",
       "      <td>2011-11-11 11:00:00</td>\n",
       "      <td>Foggy until afternoon.</td>\n",
       "      <td>2011-11-11 19:00:00</td>\n",
       "      <td>6.48</td>\n",
       "      <td>2011-11-11 23:00:00</td>\n",
       "      <td>2011-11-11 19:00:00</td>\n",
       "      <td>0.52</td>\n",
       "    </tr>\n",
       "    <tr>\n",
       "      <th>1</th>\n",
       "      <td>8.59</td>\n",
       "      <td>2011-12-11 14:00:00</td>\n",
       "      <td>198</td>\n",
       "      <td>partly-cloudy-day</td>\n",
       "      <td>4.49</td>\n",
       "      <td>2011-12-11 01:00:00</td>\n",
       "      <td>0.56</td>\n",
       "      <td>3.94</td>\n",
       "      <td>1007.71</td>\n",
       "      <td>2011-12-11 02:00:00</td>\n",
       "      <td>...</td>\n",
       "      <td>8.59</td>\n",
       "      <td>2011-12-11 07:57:02</td>\n",
       "      <td>2011-12-11 14:00:00</td>\n",
       "      <td>2011-12-11 12:00:00</td>\n",
       "      <td>Partly cloudy throughout the day.</td>\n",
       "      <td>2011-12-12 07:00:00</td>\n",
       "      <td>0.11</td>\n",
       "      <td>2011-12-11 20:00:00</td>\n",
       "      <td>2011-12-12 08:00:00</td>\n",
       "      <td>0.53</td>\n",
       "    </tr>\n",
       "    <tr>\n",
       "      <th>2</th>\n",
       "      <td>10.33</td>\n",
       "      <td>2011-12-27 02:00:00</td>\n",
       "      <td>225</td>\n",
       "      <td>partly-cloudy-day</td>\n",
       "      <td>5.47</td>\n",
       "      <td>2011-12-27 23:00:00</td>\n",
       "      <td>0.85</td>\n",
       "      <td>3.54</td>\n",
       "      <td>1032.76</td>\n",
       "      <td>2011-12-27 22:00:00</td>\n",
       "      <td>...</td>\n",
       "      <td>10.33</td>\n",
       "      <td>2011-12-27 08:07:06</td>\n",
       "      <td>2011-12-27 14:00:00</td>\n",
       "      <td>2011-12-27 00:00:00</td>\n",
       "      <td>Mostly cloudy throughout the day.</td>\n",
       "      <td>2011-12-27 23:00:00</td>\n",
       "      <td>5.59</td>\n",
       "      <td>2011-12-27 02:00:00</td>\n",
       "      <td>2011-12-28 00:00:00</td>\n",
       "      <td>0.10</td>\n",
       "    </tr>\n",
       "    <tr>\n",
       "      <th>3</th>\n",
       "      <td>8.07</td>\n",
       "      <td>2011-12-02 23:00:00</td>\n",
       "      <td>232</td>\n",
       "      <td>wind</td>\n",
       "      <td>3.69</td>\n",
       "      <td>2011-12-02 07:00:00</td>\n",
       "      <td>0.32</td>\n",
       "      <td>3.00</td>\n",
       "      <td>1012.12</td>\n",
       "      <td>2011-12-02 07:00:00</td>\n",
       "      <td>...</td>\n",
       "      <td>7.36</td>\n",
       "      <td>2011-12-02 07:46:09</td>\n",
       "      <td>2011-12-02 12:00:00</td>\n",
       "      <td>2011-12-02 10:00:00</td>\n",
       "      <td>Partly cloudy throughout the day and breezy ov...</td>\n",
       "      <td>2011-12-02 19:00:00</td>\n",
       "      <td>0.46</td>\n",
       "      <td>2011-12-02 12:00:00</td>\n",
       "      <td>2011-12-02 19:00:00</td>\n",
       "      <td>0.25</td>\n",
       "    </tr>\n",
       "    <tr>\n",
       "      <th>4</th>\n",
       "      <td>8.22</td>\n",
       "      <td>2011-12-24 23:00:00</td>\n",
       "      <td>252</td>\n",
       "      <td>partly-cloudy-night</td>\n",
       "      <td>2.79</td>\n",
       "      <td>2011-12-24 07:00:00</td>\n",
       "      <td>0.37</td>\n",
       "      <td>4.46</td>\n",
       "      <td>1028.17</td>\n",
       "      <td>2011-12-24 07:00:00</td>\n",
       "      <td>...</td>\n",
       "      <td>7.93</td>\n",
       "      <td>2011-12-24 08:06:15</td>\n",
       "      <td>2011-12-24 15:00:00</td>\n",
       "      <td>2011-12-24 13:00:00</td>\n",
       "      <td>Mostly cloudy throughout the day.</td>\n",
       "      <td>2011-12-24 19:00:00</td>\n",
       "      <td>-0.51</td>\n",
       "      <td>2011-12-24 23:00:00</td>\n",
       "      <td>2011-12-24 20:00:00</td>\n",
       "      <td>0.99</td>\n",
       "    </tr>\n",
       "  </tbody>\n",
       "</table>\n",
       "<p>5 rows × 32 columns</p>\n",
       "</div>"
      ],
      "text/plain": [
       "   temperatureMax   temperatureMaxTime  windBearing                 icon  \\\n",
       "0           11.96  2011-11-11 23:00:00          123                  fog   \n",
       "1            8.59  2011-12-11 14:00:00          198    partly-cloudy-day   \n",
       "2           10.33  2011-12-27 02:00:00          225    partly-cloudy-day   \n",
       "3            8.07  2011-12-02 23:00:00          232                 wind   \n",
       "4            8.22  2011-12-24 23:00:00          252  partly-cloudy-night   \n",
       "\n",
       "   dewPoint   temperatureMinTime  cloudCover  windSpeed  pressure  \\\n",
       "0      9.40  2011-11-11 07:00:00        0.79       3.88   1016.08   \n",
       "1      4.49  2011-12-11 01:00:00        0.56       3.94   1007.71   \n",
       "2      5.47  2011-12-27 23:00:00        0.85       3.54   1032.76   \n",
       "3      3.69  2011-12-02 07:00:00        0.32       3.00   1012.12   \n",
       "4      2.79  2011-12-24 07:00:00        0.37       4.46   1028.17   \n",
       "\n",
       "  apparentTemperatureMinTime  ...  temperatureHigh          sunriseTime  \\\n",
       "0        2011-11-11 07:00:00  ...            10.87  2011-11-11 07:12:14   \n",
       "1        2011-12-11 02:00:00  ...             8.59  2011-12-11 07:57:02   \n",
       "2        2011-12-27 22:00:00  ...            10.33  2011-12-27 08:07:06   \n",
       "3        2011-12-02 07:00:00  ...             7.36  2011-12-02 07:46:09   \n",
       "4        2011-12-24 07:00:00  ...             7.93  2011-12-24 08:06:15   \n",
       "\n",
       "   temperatureHighTime          uvIndexTime  \\\n",
       "0  2011-11-11 19:00:00  2011-11-11 11:00:00   \n",
       "1  2011-12-11 14:00:00  2011-12-11 12:00:00   \n",
       "2  2011-12-27 14:00:00  2011-12-27 00:00:00   \n",
       "3  2011-12-02 12:00:00  2011-12-02 10:00:00   \n",
       "4  2011-12-24 15:00:00  2011-12-24 13:00:00   \n",
       "\n",
       "                                             summary   temperatureLowTime  \\\n",
       "0                             Foggy until afternoon.  2011-11-11 19:00:00   \n",
       "1                  Partly cloudy throughout the day.  2011-12-12 07:00:00   \n",
       "2                  Mostly cloudy throughout the day.  2011-12-27 23:00:00   \n",
       "3  Partly cloudy throughout the day and breezy ov...  2011-12-02 19:00:00   \n",
       "4                  Mostly cloudy throughout the day.  2011-12-24 19:00:00   \n",
       "\n",
       "   apparentTemperatureMin  apparentTemperatureMaxTime  \\\n",
       "0                    6.48         2011-11-11 23:00:00   \n",
       "1                    0.11         2011-12-11 20:00:00   \n",
       "2                    5.59         2011-12-27 02:00:00   \n",
       "3                    0.46         2011-12-02 12:00:00   \n",
       "4                   -0.51         2011-12-24 23:00:00   \n",
       "\n",
       "  apparentTemperatureLowTime moonPhase  \n",
       "0        2011-11-11 19:00:00      0.52  \n",
       "1        2011-12-12 08:00:00      0.53  \n",
       "2        2011-12-28 00:00:00      0.10  \n",
       "3        2011-12-02 19:00:00      0.25  \n",
       "4        2011-12-24 20:00:00      0.99  \n",
       "\n",
       "[5 rows x 32 columns]"
      ]
     },
     "execution_count": 152,
     "metadata": {},
     "output_type": "execute_result"
    }
   ],
   "source": [
    "df_weather_daily.head()"
   ]
  },
  {
   "cell_type": "markdown",
   "id": "14962cd7",
   "metadata": {},
   "source": [
    "### Preprocessing\n",
    "\n",
    "The transformations will be done in the preprocessing.py script"
   ]
  },
  {
   "cell_type": "code",
   "execution_count": 153,
   "id": "5519e7fb",
   "metadata": {},
   "outputs": [],
   "source": [
    "datetime_cols = [col for col in df_weather_daily.columns if 'time' in col.lower()]\n",
    "for col in datetime_cols:\n",
    "    df_weather_daily[col] = pd.to_datetime(df_weather_daily[col])"
   ]
  },
  {
   "cell_type": "code",
   "execution_count": 154,
   "id": "2b93b349",
   "metadata": {},
   "outputs": [],
   "source": [
    "df_weather_daily = df_weather_daily.sort_values(by='time', ascending=True)\n",
    "df_weather_daily = df_weather_daily.set_index('time')"
   ]
  },
  {
   "cell_type": "code",
   "execution_count": 155,
   "id": "77966142",
   "metadata": {},
   "outputs": [
    {
     "data": {
      "text/html": [
       "<div>\n",
       "<style scoped>\n",
       "    .dataframe tbody tr th:only-of-type {\n",
       "        vertical-align: middle;\n",
       "    }\n",
       "\n",
       "    .dataframe tbody tr th {\n",
       "        vertical-align: top;\n",
       "    }\n",
       "\n",
       "    .dataframe thead th {\n",
       "        text-align: right;\n",
       "    }\n",
       "</style>\n",
       "<table border=\"1\" class=\"dataframe\">\n",
       "  <thead>\n",
       "    <tr style=\"text-align: right;\">\n",
       "      <th></th>\n",
       "      <th>temperatureMax</th>\n",
       "      <th>temperatureMaxTime</th>\n",
       "      <th>windBearing</th>\n",
       "      <th>icon</th>\n",
       "      <th>dewPoint</th>\n",
       "      <th>temperatureMinTime</th>\n",
       "      <th>cloudCover</th>\n",
       "      <th>windSpeed</th>\n",
       "      <th>pressure</th>\n",
       "      <th>apparentTemperatureMinTime</th>\n",
       "      <th>...</th>\n",
       "      <th>temperatureHigh</th>\n",
       "      <th>sunriseTime</th>\n",
       "      <th>temperatureHighTime</th>\n",
       "      <th>uvIndexTime</th>\n",
       "      <th>summary</th>\n",
       "      <th>temperatureLowTime</th>\n",
       "      <th>apparentTemperatureMin</th>\n",
       "      <th>apparentTemperatureMaxTime</th>\n",
       "      <th>apparentTemperatureLowTime</th>\n",
       "      <th>moonPhase</th>\n",
       "    </tr>\n",
       "    <tr>\n",
       "      <th>time</th>\n",
       "      <th></th>\n",
       "      <th></th>\n",
       "      <th></th>\n",
       "      <th></th>\n",
       "      <th></th>\n",
       "      <th></th>\n",
       "      <th></th>\n",
       "      <th></th>\n",
       "      <th></th>\n",
       "      <th></th>\n",
       "      <th></th>\n",
       "      <th></th>\n",
       "      <th></th>\n",
       "      <th></th>\n",
       "      <th></th>\n",
       "      <th></th>\n",
       "      <th></th>\n",
       "      <th></th>\n",
       "      <th></th>\n",
       "      <th></th>\n",
       "      <th></th>\n",
       "    </tr>\n",
       "  </thead>\n",
       "  <tbody>\n",
       "    <tr>\n",
       "      <th>2011-11-01</th>\n",
       "      <td>15.57</td>\n",
       "      <td>2011-11-01 15:00:00</td>\n",
       "      <td>208</td>\n",
       "      <td>partly-cloudy-day</td>\n",
       "      <td>10.13</td>\n",
       "      <td>2011-11-01 22:00:00</td>\n",
       "      <td>0.36</td>\n",
       "      <td>2.45</td>\n",
       "      <td>1009.46</td>\n",
       "      <td>2011-11-01 22:00:00</td>\n",
       "      <td>...</td>\n",
       "      <td>15.57</td>\n",
       "      <td>2011-11-01 06:54:29</td>\n",
       "      <td>2011-11-01 15:00:00</td>\n",
       "      <td>2011-11-01 10:00:00</td>\n",
       "      <td>Partly cloudy until evening.</td>\n",
       "      <td>2011-11-02 03:00:00</td>\n",
       "      <td>9.01</td>\n",
       "      <td>2011-11-01 15:00:00</td>\n",
       "      <td>2011-11-02 03:00:00</td>\n",
       "      <td>0.21</td>\n",
       "    </tr>\n",
       "    <tr>\n",
       "      <th>2011-11-02</th>\n",
       "      <td>15.19</td>\n",
       "      <td>2011-11-02 23:00:00</td>\n",
       "      <td>134</td>\n",
       "      <td>partly-cloudy-night</td>\n",
       "      <td>10.23</td>\n",
       "      <td>2011-11-02 03:00:00</td>\n",
       "      <td>0.39</td>\n",
       "      <td>4.39</td>\n",
       "      <td>1004.79</td>\n",
       "      <td>2011-11-02 03:00:00</td>\n",
       "      <td>...</td>\n",
       "      <td>15.06</td>\n",
       "      <td>2011-11-02 06:56:16</td>\n",
       "      <td>2011-11-02 13:00:00</td>\n",
       "      <td>2011-11-02 09:00:00</td>\n",
       "      <td>Partly cloudy throughout the day.</td>\n",
       "      <td>2011-11-02 19:00:00</td>\n",
       "      <td>7.33</td>\n",
       "      <td>2011-11-02 23:00:00</td>\n",
       "      <td>2011-11-02 19:00:00</td>\n",
       "      <td>0.24</td>\n",
       "    </tr>\n",
       "    <tr>\n",
       "      <th>2011-11-03</th>\n",
       "      <td>17.41</td>\n",
       "      <td>2011-11-03 14:00:00</td>\n",
       "      <td>154</td>\n",
       "      <td>partly-cloudy-day</td>\n",
       "      <td>13.39</td>\n",
       "      <td>2011-11-03 21:00:00</td>\n",
       "      <td>0.52</td>\n",
       "      <td>3.99</td>\n",
       "      <td>993.40</td>\n",
       "      <td>2011-11-03 21:00:00</td>\n",
       "      <td>...</td>\n",
       "      <td>17.41</td>\n",
       "      <td>2011-11-03 06:58:03</td>\n",
       "      <td>2011-11-03 14:00:00</td>\n",
       "      <td>2011-11-03 10:00:00</td>\n",
       "      <td>Partly cloudy throughout the day.</td>\n",
       "      <td>2011-11-04 07:00:00</td>\n",
       "      <td>12.79</td>\n",
       "      <td>2011-11-03 14:00:00</td>\n",
       "      <td>2011-11-04 07:00:00</td>\n",
       "      <td>0.27</td>\n",
       "    </tr>\n",
       "    <tr>\n",
       "      <th>2011-11-04</th>\n",
       "      <td>15.54</td>\n",
       "      <td>2011-11-04 11:00:00</td>\n",
       "      <td>179</td>\n",
       "      <td>fog</td>\n",
       "      <td>12.03</td>\n",
       "      <td>2011-11-04 23:00:00</td>\n",
       "      <td>0.50</td>\n",
       "      <td>2.62</td>\n",
       "      <td>995.54</td>\n",
       "      <td>2011-11-04 23:00:00</td>\n",
       "      <td>...</td>\n",
       "      <td>15.54</td>\n",
       "      <td>2011-11-04 06:59:49</td>\n",
       "      <td>2011-11-04 11:00:00</td>\n",
       "      <td>2011-11-04 10:00:00</td>\n",
       "      <td>Foggy overnight.</td>\n",
       "      <td>2011-11-05 02:00:00</td>\n",
       "      <td>11.53</td>\n",
       "      <td>2011-11-04 11:00:00</td>\n",
       "      <td>2011-11-05 02:00:00</td>\n",
       "      <td>0.31</td>\n",
       "    </tr>\n",
       "    <tr>\n",
       "      <th>2011-11-05</th>\n",
       "      <td>13.94</td>\n",
       "      <td>2011-11-05 15:00:00</td>\n",
       "      <td>346</td>\n",
       "      <td>fog</td>\n",
       "      <td>10.96</td>\n",
       "      <td>2011-11-05 02:00:00</td>\n",
       "      <td>0.65</td>\n",
       "      <td>2.70</td>\n",
       "      <td>1007.39</td>\n",
       "      <td>2011-11-05 02:00:00</td>\n",
       "      <td>...</td>\n",
       "      <td>13.94</td>\n",
       "      <td>2011-11-05 07:01:36</td>\n",
       "      <td>2011-11-05 15:00:00</td>\n",
       "      <td>2011-11-05 10:00:00</td>\n",
       "      <td>Foggy in the morning.</td>\n",
       "      <td>2011-11-06 05:00:00</td>\n",
       "      <td>10.17</td>\n",
       "      <td>2011-11-05 15:00:00</td>\n",
       "      <td>2011-11-06 06:00:00</td>\n",
       "      <td>0.34</td>\n",
       "    </tr>\n",
       "  </tbody>\n",
       "</table>\n",
       "<p>5 rows × 31 columns</p>\n",
       "</div>"
      ],
      "text/plain": [
       "            temperatureMax  temperatureMaxTime  windBearing  \\\n",
       "time                                                          \n",
       "2011-11-01           15.57 2011-11-01 15:00:00          208   \n",
       "2011-11-02           15.19 2011-11-02 23:00:00          134   \n",
       "2011-11-03           17.41 2011-11-03 14:00:00          154   \n",
       "2011-11-04           15.54 2011-11-04 11:00:00          179   \n",
       "2011-11-05           13.94 2011-11-05 15:00:00          346   \n",
       "\n",
       "                           icon  dewPoint  temperatureMinTime  cloudCover  \\\n",
       "time                                                                        \n",
       "2011-11-01    partly-cloudy-day     10.13 2011-11-01 22:00:00        0.36   \n",
       "2011-11-02  partly-cloudy-night     10.23 2011-11-02 03:00:00        0.39   \n",
       "2011-11-03    partly-cloudy-day     13.39 2011-11-03 21:00:00        0.52   \n",
       "2011-11-04                  fog     12.03 2011-11-04 23:00:00        0.50   \n",
       "2011-11-05                  fog     10.96 2011-11-05 02:00:00        0.65   \n",
       "\n",
       "            windSpeed  pressure apparentTemperatureMinTime  ...  \\\n",
       "time                                                        ...   \n",
       "2011-11-01       2.45   1009.46        2011-11-01 22:00:00  ...   \n",
       "2011-11-02       4.39   1004.79        2011-11-02 03:00:00  ...   \n",
       "2011-11-03       3.99    993.40        2011-11-03 21:00:00  ...   \n",
       "2011-11-04       2.62    995.54        2011-11-04 23:00:00  ...   \n",
       "2011-11-05       2.70   1007.39        2011-11-05 02:00:00  ...   \n",
       "\n",
       "            temperatureHigh         sunriseTime  temperatureHighTime  \\\n",
       "time                                                                   \n",
       "2011-11-01            15.57 2011-11-01 06:54:29  2011-11-01 15:00:00   \n",
       "2011-11-02            15.06 2011-11-02 06:56:16  2011-11-02 13:00:00   \n",
       "2011-11-03            17.41 2011-11-03 06:58:03  2011-11-03 14:00:00   \n",
       "2011-11-04            15.54 2011-11-04 06:59:49  2011-11-04 11:00:00   \n",
       "2011-11-05            13.94 2011-11-05 07:01:36  2011-11-05 15:00:00   \n",
       "\n",
       "                   uvIndexTime                            summary  \\\n",
       "time                                                                \n",
       "2011-11-01 2011-11-01 10:00:00       Partly cloudy until evening.   \n",
       "2011-11-02 2011-11-02 09:00:00  Partly cloudy throughout the day.   \n",
       "2011-11-03 2011-11-03 10:00:00  Partly cloudy throughout the day.   \n",
       "2011-11-04 2011-11-04 10:00:00                   Foggy overnight.   \n",
       "2011-11-05 2011-11-05 10:00:00              Foggy in the morning.   \n",
       "\n",
       "            temperatureLowTime  apparentTemperatureMin  \\\n",
       "time                                                     \n",
       "2011-11-01 2011-11-02 03:00:00                    9.01   \n",
       "2011-11-02 2011-11-02 19:00:00                    7.33   \n",
       "2011-11-03 2011-11-04 07:00:00                   12.79   \n",
       "2011-11-04 2011-11-05 02:00:00                   11.53   \n",
       "2011-11-05 2011-11-06 05:00:00                   10.17   \n",
       "\n",
       "            apparentTemperatureMaxTime apparentTemperatureLowTime  moonPhase  \n",
       "time                                                                          \n",
       "2011-11-01         2011-11-01 15:00:00        2011-11-02 03:00:00       0.21  \n",
       "2011-11-02         2011-11-02 23:00:00        2011-11-02 19:00:00       0.24  \n",
       "2011-11-03         2011-11-03 14:00:00        2011-11-04 07:00:00       0.27  \n",
       "2011-11-04         2011-11-04 11:00:00        2011-11-05 02:00:00       0.31  \n",
       "2011-11-05         2011-11-05 15:00:00        2011-11-06 06:00:00       0.34  \n",
       "\n",
       "[5 rows x 31 columns]"
      ]
     },
     "execution_count": 155,
     "metadata": {},
     "output_type": "execute_result"
    }
   ],
   "source": [
    "df_weather_daily.head()"
   ]
  },
  {
   "cell_type": "code",
   "execution_count": 156,
   "id": "92800891",
   "metadata": {},
   "outputs": [
    {
     "data": {
      "text/plain": [
       "temperatureMax                 0\n",
       "temperatureMaxTime             0\n",
       "windBearing                    0\n",
       "icon                           0\n",
       "dewPoint                       0\n",
       "temperatureMinTime             0\n",
       "cloudCover                     1\n",
       "windSpeed                      0\n",
       "pressure                       0\n",
       "apparentTemperatureMinTime     0\n",
       "apparentTemperatureHigh        0\n",
       "precipType                     0\n",
       "visibility                     0\n",
       "humidity                       0\n",
       "apparentTemperatureHighTime    0\n",
       "apparentTemperatureLow         0\n",
       "apparentTemperatureMax         0\n",
       "uvIndex                        1\n",
       "sunsetTime                     0\n",
       "temperatureLow                 0\n",
       "temperatureMin                 0\n",
       "temperatureHigh                0\n",
       "sunriseTime                    0\n",
       "temperatureHighTime            0\n",
       "uvIndexTime                    1\n",
       "summary                        0\n",
       "temperatureLowTime             0\n",
       "apparentTemperatureMin         0\n",
       "apparentTemperatureMaxTime     0\n",
       "apparentTemperatureLowTime     0\n",
       "moonPhase                      0\n",
       "dtype: int64"
      ]
     },
     "execution_count": 156,
     "metadata": {},
     "output_type": "execute_result"
    }
   ],
   "source": [
    "df_weather_daily.isna().sum()"
   ]
  },
  {
   "cell_type": "code",
   "execution_count": 157,
   "id": "03833f30",
   "metadata": {},
   "outputs": [
    {
     "data": {
      "text/plain": [
       "DatetimeIndex(['2014-01-01'], dtype='datetime64[ns]', name='time', freq=None)"
      ]
     },
     "execution_count": 157,
     "metadata": {},
     "output_type": "execute_result"
    }
   ],
   "source": [
    "miss_day = df_weather_daily[df_weather_daily.isna().any(axis=1)].index\n",
    "miss_day"
   ]
  },
  {
   "cell_type": "code",
   "execution_count": 197,
   "id": "8724f02b",
   "metadata": {},
   "outputs": [],
   "source": [
    "df_days_missing = pd.DataFrame({'days_missing': miss_day.date})"
   ]
  },
  {
   "cell_type": "code",
   "execution_count": 158,
   "id": "106f7996",
   "metadata": {},
   "outputs": [],
   "source": [
    "df_weather_daily = df_weather_daily.drop(miss_day)"
   ]
  },
  {
   "cell_type": "code",
   "execution_count": 159,
   "id": "5899f327",
   "metadata": {},
   "outputs": [
    {
     "data": {
      "text/plain": [
       "icon\n",
       "partly-cloudy-day      619\n",
       "wind                   123\n",
       "fog                     91\n",
       "partly-cloudy-night     33\n",
       "cloudy                   9\n",
       "clear-day                6\n",
       "Name: count, dtype: int64"
      ]
     },
     "execution_count": 159,
     "metadata": {},
     "output_type": "execute_result"
    }
   ],
   "source": [
    "df_weather_daily.icon.value_counts()"
   ]
  },
  {
   "cell_type": "code",
   "execution_count": 160,
   "id": "26fc342f",
   "metadata": {},
   "outputs": [],
   "source": [
    "df_weather_daily.icon = pd.Categorical(df_weather_daily.icon)"
   ]
  },
  {
   "cell_type": "code",
   "execution_count": 161,
   "id": "c645f176",
   "metadata": {},
   "outputs": [
    {
     "data": {
      "text/plain": [
       "summary\n",
       "Mostly cloudy throughout the day.                             174\n",
       "Partly cloudy throughout the day.                             170\n",
       "Partly cloudy until evening.                                  133\n",
       "Mostly cloudy until evening.                                  118\n",
       "Foggy in the morning.                                          47\n",
       "                                                             ... \n",
       "Mostly cloudy until evening and breezy throughout the day.      1\n",
       "Overcast until evening and windy starting in the evening.       1\n",
       "Windy and mostly cloudy until afternoon.                        1\n",
       "Partly cloudy in the evening.                                   1\n",
       "Overcast until afternoon.                                       1\n",
       "Name: count, Length: 87, dtype: int64"
      ]
     },
     "execution_count": 161,
     "metadata": {},
     "output_type": "execute_result"
    }
   ],
   "source": [
    "df_weather_daily.summary.value_counts()"
   ]
  },
  {
   "cell_type": "code",
   "execution_count": 162,
   "id": "25450829",
   "metadata": {},
   "outputs": [],
   "source": [
    "df_weather_daily = df_weather_daily.drop(columns='summary')"
   ]
  },
  {
   "cell_type": "code",
   "execution_count": 163,
   "id": "bdc437ca",
   "metadata": {},
   "outputs": [
    {
     "data": {
      "text/plain": [
       "['temperatureMaxTime',\n",
       " 'temperatureMinTime',\n",
       " 'apparentTemperatureMinTime',\n",
       " 'apparentTemperatureHighTime',\n",
       " 'sunsetTime',\n",
       " 'sunriseTime',\n",
       " 'temperatureHighTime',\n",
       " 'uvIndexTime',\n",
       " 'temperatureLowTime',\n",
       " 'apparentTemperatureMaxTime',\n",
       " 'apparentTemperatureLowTime']"
      ]
     },
     "execution_count": 163,
     "metadata": {},
     "output_type": "execute_result"
    }
   ],
   "source": [
    "datetime_cols.remove('time')\n",
    "datetime_cols"
   ]
  },
  {
   "cell_type": "code",
   "execution_count": 164,
   "id": "27bd723a",
   "metadata": {},
   "outputs": [],
   "source": [
    "df_weather_daily = df_weather_daily.drop(columns=datetime_cols)"
   ]
  },
  {
   "cell_type": "code",
   "execution_count": 165,
   "id": "edb639ea",
   "metadata": {},
   "outputs": [
    {
     "data": {
      "text/plain": [
       "precipType\n",
       "rain    861\n",
       "snow     20\n",
       "Name: count, dtype: int64"
      ]
     },
     "execution_count": 165,
     "metadata": {},
     "output_type": "execute_result"
    }
   ],
   "source": [
    "df_weather_daily.precipType.value_counts()"
   ]
  },
  {
   "cell_type": "code",
   "execution_count": 166,
   "id": "5189f149",
   "metadata": {},
   "outputs": [],
   "source": [
    "df_weather_daily.precipType = pd.Categorical(df_weather_daily.precipType)"
   ]
  },
  {
   "cell_type": "code",
   "execution_count": 167,
   "id": "14a53919",
   "metadata": {},
   "outputs": [],
   "source": [
    "df_weather_daily.to_parquet(r'..\\data\\01_interim\\weather_daily_darksky_cleaned.parquet', index=True)"
   ]
  },
  {
   "cell_type": "markdown",
   "id": "5d712b53",
   "metadata": {},
   "source": [
    "## Temperature file"
   ]
  },
  {
   "cell_type": "markdown",
   "id": "e74a20f8",
   "metadata": {},
   "source": [
    "### Extraction"
   ]
  },
  {
   "cell_type": "code",
   "execution_count": 168,
   "id": "9d886b00",
   "metadata": {},
   "outputs": [],
   "source": [
    "df_temperature = pd.read_csv(r'..\\data\\00_raw\\temperatures.csv',sep=';',decimal=',')"
   ]
  },
  {
   "cell_type": "code",
   "execution_count": 169,
   "id": "41a18ef3",
   "metadata": {},
   "outputs": [
    {
     "data": {
      "text/html": [
       "<div>\n",
       "<style scoped>\n",
       "    .dataframe tbody tr th:only-of-type {\n",
       "        vertical-align: middle;\n",
       "    }\n",
       "\n",
       "    .dataframe tbody tr th {\n",
       "        vertical-align: top;\n",
       "    }\n",
       "\n",
       "    .dataframe thead th {\n",
       "        text-align: right;\n",
       "    }\n",
       "</style>\n",
       "<table border=\"1\" class=\"dataframe\">\n",
       "  <thead>\n",
       "    <tr style=\"text-align: right;\">\n",
       "      <th></th>\n",
       "      <th>DateTime</th>\n",
       "      <th>Temperature</th>\n",
       "    </tr>\n",
       "  </thead>\n",
       "  <tbody>\n",
       "    <tr>\n",
       "      <th>0</th>\n",
       "      <td>2011-11-24</td>\n",
       "      <td>9.440</td>\n",
       "    </tr>\n",
       "    <tr>\n",
       "      <th>1</th>\n",
       "      <td>2011-11-24 00:30:00</td>\n",
       "      <td>9.440</td>\n",
       "    </tr>\n",
       "    <tr>\n",
       "      <th>2</th>\n",
       "      <td>2011-11-24 01:00:00</td>\n",
       "      <td>9.440</td>\n",
       "    </tr>\n",
       "    <tr>\n",
       "      <th>3</th>\n",
       "      <td>2011-11-24 01:30:00</td>\n",
       "      <td>9.165</td>\n",
       "    </tr>\n",
       "    <tr>\n",
       "      <th>4</th>\n",
       "      <td>2011-11-24 02:00:00</td>\n",
       "      <td>8.890</td>\n",
       "    </tr>\n",
       "  </tbody>\n",
       "</table>\n",
       "</div>"
      ],
      "text/plain": [
       "              DateTime  Temperature\n",
       "0           2011-11-24        9.440\n",
       "1  2011-11-24 00:30:00        9.440\n",
       "2  2011-11-24 01:00:00        9.440\n",
       "3  2011-11-24 01:30:00        9.165\n",
       "4  2011-11-24 02:00:00        8.890"
      ]
     },
     "execution_count": 169,
     "metadata": {},
     "output_type": "execute_result"
    }
   ],
   "source": [
    "df_temperature.head()"
   ]
  },
  {
   "cell_type": "code",
   "execution_count": 174,
   "id": "74fbbd99",
   "metadata": {},
   "outputs": [
    {
     "data": {
      "text/plain": [
       "(39696, 1)"
      ]
     },
     "execution_count": 174,
     "metadata": {},
     "output_type": "execute_result"
    }
   ],
   "source": [
    "df_temperature.shape"
   ]
  },
  {
   "cell_type": "code",
   "execution_count": 170,
   "id": "4f313acc",
   "metadata": {},
   "outputs": [
    {
     "data": {
      "text/plain": [
       "DateTime         0\n",
       "Temperature    252\n",
       "dtype: int64"
      ]
     },
     "execution_count": 170,
     "metadata": {},
     "output_type": "execute_result"
    }
   ],
   "source": [
    "df_temperature.isna().sum()"
   ]
  },
  {
   "cell_type": "code",
   "execution_count": 171,
   "id": "91a06764",
   "metadata": {},
   "outputs": [],
   "source": [
    "mask = df_temperature[\"DateTime\"].str.len() == 10\n",
    "\n",
    "df_temperature.loc[mask, \"DateTime\"] = (\n",
    "    df_temperature.loc[mask, \"DateTime\"] + \" 00:00:00\"\n",
    ")"
   ]
  },
  {
   "cell_type": "code",
   "execution_count": 172,
   "id": "1ccdf8c8",
   "metadata": {},
   "outputs": [],
   "source": [
    "df_temperature.DateTime = pd.to_datetime(df_temperature.DateTime)\n",
    "df_temperature = df_temperature.set_index('DateTime')"
   ]
  },
  {
   "cell_type": "code",
   "execution_count": 190,
   "id": "acf9b964",
   "metadata": {},
   "outputs": [
    {
     "data": {
      "text/plain": [
       "DateTime\n",
       "2013-09-09    46\n",
       "2011-12-31    42\n",
       "2011-12-30    25\n",
       "2012-01-01    21\n",
       "2012-01-02    19\n",
       "2012-01-03    12\n",
       "2013-11-08    11\n",
       "2013-08-16     7\n",
       "2013-06-09     5\n",
       "2012-05-17     5\n",
       "2012-10-26     3\n",
       "2012-05-07     3\n",
       "2012-06-09     3\n",
       "2012-07-16     3\n",
       "2011-12-09     3\n",
       "2013-05-30     3\n",
       "2013-02-06     3\n",
       "2013-01-03     3\n",
       "2012-12-31     3\n",
       "2013-06-11     3\n",
       "2013-06-18     3\n",
       "2013-06-08     3\n",
       "2013-06-06     3\n",
       "2014-01-01     3\n",
       "2013-12-03     3\n",
       "2013-09-13     3\n",
       "2013-08-25     3\n",
       "2014-01-21     3\n",
       "2013-08-01     2\n",
       "2013-09-10     2\n",
       "2013-07-31     1\n",
       "Name: count, dtype: int64"
      ]
     },
     "execution_count": 190,
     "metadata": {},
     "output_type": "execute_result"
    }
   ],
   "source": [
    "missing_temp_day = df_temperature[df_temperature.Temperature.isna()].index.to_series().dt.date.value_counts()\n",
    "missing_temp_day"
   ]
  },
  {
   "cell_type": "code",
   "execution_count": 192,
   "id": "bf747632",
   "metadata": {},
   "outputs": [
    {
     "data": {
      "text/plain": [
       "Index([2013-09-09, 2011-12-31, 2011-12-30, 2012-01-01, 2012-01-02, 2012-01-03,\n",
       "       2013-11-08],\n",
       "      dtype='object', name='DateTime')"
      ]
     },
     "execution_count": 192,
     "metadata": {},
     "output_type": "execute_result"
    }
   ],
   "source": [
    "missing_temp_day[missing_temp_day >7].index"
   ]
  },
  {
   "cell_type": "code",
   "execution_count": 199,
   "id": "31746521",
   "metadata": {},
   "outputs": [
    {
     "data": {
      "text/html": [
       "<div>\n",
       "<style scoped>\n",
       "    .dataframe tbody tr th:only-of-type {\n",
       "        vertical-align: middle;\n",
       "    }\n",
       "\n",
       "    .dataframe tbody tr th {\n",
       "        vertical-align: top;\n",
       "    }\n",
       "\n",
       "    .dataframe thead th {\n",
       "        text-align: right;\n",
       "    }\n",
       "</style>\n",
       "<table border=\"1\" class=\"dataframe\">\n",
       "  <thead>\n",
       "    <tr style=\"text-align: right;\">\n",
       "      <th></th>\n",
       "      <th>days_missing</th>\n",
       "    </tr>\n",
       "  </thead>\n",
       "  <tbody>\n",
       "    <tr>\n",
       "      <th>0</th>\n",
       "      <td>2014-01-01</td>\n",
       "    </tr>\n",
       "    <tr>\n",
       "      <th>1</th>\n",
       "      <td>2013-09-09</td>\n",
       "    </tr>\n",
       "    <tr>\n",
       "      <th>2</th>\n",
       "      <td>2011-12-31</td>\n",
       "    </tr>\n",
       "    <tr>\n",
       "      <th>3</th>\n",
       "      <td>2011-12-30</td>\n",
       "    </tr>\n",
       "    <tr>\n",
       "      <th>4</th>\n",
       "      <td>2012-01-01</td>\n",
       "    </tr>\n",
       "    <tr>\n",
       "      <th>5</th>\n",
       "      <td>2012-01-02</td>\n",
       "    </tr>\n",
       "    <tr>\n",
       "      <th>6</th>\n",
       "      <td>2012-01-03</td>\n",
       "    </tr>\n",
       "    <tr>\n",
       "      <th>7</th>\n",
       "      <td>2013-11-08</td>\n",
       "    </tr>\n",
       "  </tbody>\n",
       "</table>\n",
       "</div>"
      ],
      "text/plain": [
       "  days_missing\n",
       "0   2014-01-01\n",
       "1   2013-09-09\n",
       "2   2011-12-31\n",
       "3   2011-12-30\n",
       "4   2012-01-01\n",
       "5   2012-01-02\n",
       "6   2012-01-03\n",
       "7   2013-11-08"
      ]
     },
     "execution_count": 199,
     "metadata": {},
     "output_type": "execute_result"
    }
   ],
   "source": [
    "pd.concat([df_days_missing, missing_temp_day[missing_temp_day >7].index.to_series(name='days_missing')]).reset_index(drop=True)"
   ]
  }
 ],
 "metadata": {
  "kernelspec": {
   "display_name": ".env",
   "language": "python",
   "name": "python3"
  },
  "language_info": {
   "codemirror_mode": {
    "name": "ipython",
    "version": 3
   },
   "file_extension": ".py",
   "mimetype": "text/x-python",
   "name": "python",
   "nbconvert_exporter": "python",
   "pygments_lexer": "ipython3",
   "version": "3.13.3"
  }
 },
 "nbformat": 4,
 "nbformat_minor": 5
}
